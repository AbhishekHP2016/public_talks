{
 "metadata": {
  "name": "statBytes-python"
 },
 "nbformat": 3,
 "nbformat_minor": 0,
 "worksheets": [
  {
   "cells": [
    {
     "cell_type": "heading",
     "level": 2,
     "metadata": {},
     "source": [
      "Getting started with Python for statistical computing"
     ]
    },
    {
     "cell_type": "markdown",
     "metadata": {},
     "source": [
      "* try to get inline figures without the pylab environment"
     ]
    },
    {
     "cell_type": "heading",
     "level": 4,
     "metadata": {},
     "source": [
      "What is Python?"
     ]
    },
    {
     "cell_type": "heading",
     "level": 4,
     "metadata": {},
     "source": [
      "Installation"
     ]
    },
    {
     "cell_type": "heading",
     "level": 4,
     "metadata": {},
     "source": [
      "The statistical computing \"stack\""
     ]
    },
    {
     "cell_type": "markdown",
     "metadata": {},
     "source": [
      "+ *IPython* is an incredibly useful tool for interactive computing (like the R command line).\n",
      "+ Typically, write code in a text editor, then use the *run* command in IPython.\n",
      "+ Play with individual blocks of code interactively at the IPython prompt.\n",
      "+ Not all of the following libraries are always necessary."
     ]
    },
    {
     "cell_type": "code",
     "collapsed": false,
     "input": [
      "import numpy as np   ## vector and matrix operations\n",
      "import scipy as sp   ## grab-bag of statistical and science tools\n",
      "import matplotlib.pyplot as plt   ## matplotlib - plots\n",
      "import pandas as pd   ## emulates R data frames\n",
      "import sklearn as skl   ## scikits.learn - machine learning library\n",
      "import statsmodels as sm   ## scikits.statsmodels - statistics library"
     ],
     "language": "python",
     "metadata": {},
     "outputs": []
    },
    {
     "cell_type": "heading",
     "level": 4,
     "metadata": {},
     "source": [
      "Open a CSV file with Pandas"
     ]
    },
    {
     "cell_type": "heading",
     "level": 4,
     "metadata": {},
     "source": [
      "Generate some random variables"
     ]
    },
    {
     "cell_type": "heading",
     "level": 4,
     "metadata": {},
     "source": [
      "Compute summary statistics"
     ]
    },
    {
     "cell_type": "heading",
     "level": 4,
     "metadata": {},
     "source": [
      "Basic linear regression"
     ]
    },
    {
     "cell_type": "heading",
     "level": 4,
     "metadata": {},
     "source": [
      "Plot the data and least squares line"
     ]
    },
    {
     "cell_type": "markdown",
     "metadata": {},
     "source": [
      "An example plot."
     ]
    },
    {
     "cell_type": "code",
     "collapsed": false,
     "input": [
      "x = np.linspace(0, 2*np.pi, 100)\n",
      "y = np.sin(x**2)\n",
      "pylab.plot(x, y)"
     ],
     "language": "python",
     "metadata": {},
     "outputs": [
      {
       "output_type": "pyout",
       "prompt_number": 3,
       "text": [
        "[<matplotlib.lines.Line2D at 0x2d78a50>]"
       ]
      },
      {
       "output_type": "display_data",
       "png": "[encoded data removed]"
      }
     ],
     "prompt_number": 3
    },
    {
     "cell_type": "heading",
     "level": 4,
     "metadata": {},
     "source": [
      "Resources"
     ]
    },
    {
     "cell_type": "heading",
     "level": 3,
     "metadata": {},
     "source": [
      "Back matter "
     ]
    },
    {
     "cell_type": "heading",
     "level": 4,
     "metadata": {},
     "source": [
      "Why Python?"
     ]
    }
   ],
   "metadata": {}
  }
 ]
}