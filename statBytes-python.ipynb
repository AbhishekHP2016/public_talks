{
 "metadata": {
  "name": "statBytes-python"
 },
 "nbformat": 3,
 "nbformat_minor": 0,
 "worksheets": [
  {
   "cells": [
    {
     "cell_type": "heading",
     "level": 2,
     "metadata": {},
     "source": [
      "Getting started with Python for statistical computing"
     ]
    },
    {
     "cell_type": "heading",
     "level": 4,
     "metadata": {},
     "source": [
      "What is Python?"
     ]
    },
    {
     "cell_type": "markdown",
     "metadata": {},
     "source": [
      "+ A general purpose, high-level programming language\n",
      "+ Design, syntax, and culture promote human readability\n",
      "+ Interpreted\n",
      "+ Dynamic typing\n",
      "+ Automatic memory management\n",
      "+ Support the object-oriented paradigm"
     ]
    },
    {
     "cell_type": "heading",
     "level": 4,
     "metadata": {},
     "source": [
      "The statistical computing \"stack\""
     ]
    },
    {
     "cell_type": "markdown",
     "metadata": {},
     "source": [
      "+ *IPython* is an incredibly useful tool for interactive computing (like the R command line).\n",
      "+ Typically, write code in a text editor, then use the *run* command in IPython.\n",
      "+ Play with individual blocks of code interactively at the IPython prompt.\n",
      "+ Not all of the following libraries are always necessary.\n",
      "+ You don't have to import the whole package."
     ]
    },
    {
     "cell_type": "code",
     "collapsed": false,
     "input": [
      "import numpy as np     ## vector and matrix operations\n",
      "import scipy as sp     ## grab-bag of statistical and science tools\n",
      "import matplotlib.pyplot as plt     ## matplotlib - plots\n",
      "import pandas as pd     ## emulates R data frames\n",
      "import statsmodels.api as sm     ## scikits.statsmodels - statistics library\n",
      "import patsy    ## emulates R model formulas\n",
      "\n",
      "import sklearn as skl     ## scikits.learn - machine learning library\n",
      "from sklearn import mixture as sklmix"
     ],
     "language": "python",
     "metadata": {},
     "outputs": [],
     "prompt_number": 1
    },
    {
     "cell_type": "heading",
     "level": 4,
     "metadata": {},
     "source": [
      "Installation"
     ]
    },
    {
     "cell_type": "markdown",
     "metadata": {},
     "source": [
      "*Linux (Ubuntu)*\n",
      "\n",
      "+ Python should be included in the OS. To install new packages use  \n",
      "`(sudo) pip install [package]`.\n",
      "\n",
      "*Mac*\n",
      "\n",
      "+ Python should be installed already. Consider a bundled installation to get all the packages easier.\n",
      "\n",
      "*Windows*\n",
      "\n",
      "+ Check out the bundled scientific python distributions.\n",
      "  + [Enthought](https://www.enthought.com/products/canopy/academic/) (free for academic use)\n",
      "  + [Anaconda](https://store.continuum.io/) (Continuum Analytics)\n",
      "  + [Python(x,y)](https://code.google.com/p/pythonxy/)"
     ]
    },
    {
     "cell_type": "heading",
     "level": 4,
     "metadata": {},
     "source": [
      "Generate some random variables"
     ]
    },
    {
     "cell_type": "code",
     "collapsed": true,
     "input": [
      "x = np.linspace(0, 10, 100)\n",
      "y = np.random.normal(loc=x, scale=1.0)\n",
      "plt.plot(x, y, 'bo')"
     ],
     "language": "python",
     "metadata": {},
     "outputs": [
      {
       "output_type": "pyout",
       "prompt_number": 2,
       "text": [
        "[<matplotlib.lines.Line2D at 0x58ce290>]"
       ]
      },
      {
       "output_type": "display_data",
       "png": "[encoded data removed]"
      }
     ],
     "prompt_number": 2
    },
    {
     "cell_type": "heading",
     "level": 4,
     "metadata": {},
     "source": [
      "Basic linear regression"
     ]
    },
    {
     "cell_type": "code",
     "collapsed": false,
     "input": [
      "ols_model = sm.OLS(y, x)\n",
      "ols_fit = ols_model.fit()\n",
      "yhat = ols_fit.predict()\n",
      "\n",
      "print ols_fit.summary()\n",
      "plt.plot(x, y, 'bo', x, yhat, 'r-', lw=2)"
     ],
     "language": "python",
     "metadata": {},
     "outputs": [
      {
       "output_type": "stream",
       "stream": "stdout",
       "text": [
        "                            OLS Regression Results                            \n",
        "==============================================================================\n",
        "Dep. Variable:                      y   R-squared:                       0.885\n",
        "Model:                            OLS   Adj. R-squared:                  0.885\n",
        "Method:                 Least Squares   F-statistic:                       inf\n",
        "Date:                Thu, 06 Jun 2013   Prob (F-statistic):                nan\n",
        "Time:                        20:19:57   Log-Likelihood:                -143.24\n",
        "No. Observations:                 100   AIC:                             288.5\n",
        "Df Residuals:                      99   BIC:                             291.1\n",
        "Df Model:                           0                                         \n",
        "==============================================================================\n",
        "                 coef    std err          t      P>|t|      [95.0% Conf. Int.]\n",
        "------------------------------------------------------------------------------\n",
        "x1             0.9707      0.018     55.159      0.000         0.936     1.006\n",
        "==============================================================================\n",
        "Omnibus:                        2.274   Durbin-Watson:                   1.613\n",
        "Prob(Omnibus):                  0.321   Jarque-Bera (JB):                2.215\n",
        "Skew:                          -0.298   Prob(JB):                        0.330\n",
        "Kurtosis:                       2.579   Cond. No.                         1.00\n",
        "==============================================================================\n"
       ]
      },
      {
       "output_type": "pyout",
       "prompt_number": 3,
       "text": [
        "[<matplotlib.lines.Line2D at 0x5b0c110>,\n",
        " <matplotlib.lines.Line2D at 0x5b0c310>]"
       ]
      },
      {
       "output_type": "display_data",
       "png": "[encoded data removed]"
      }
     ],
     "prompt_number": 3
    },
    {
     "cell_type": "heading",
     "level": 4,
     "metadata": {},
     "source": [
      "Open a CSV file with Pandas"
     ]
    },
    {
     "cell_type": "code",
     "collapsed": false,
     "input": [
      "iris = pd.read_csv('iris.csv')\n",
      "print iris, '\\n'\n",
      "print iris.head(10)"
     ],
     "language": "python",
     "metadata": {},
     "outputs": [
      {
       "output_type": "stream",
       "stream": "stdout",
       "text": [
        "<class 'pandas.core.frame.DataFrame'>\n",
        "Int64Index: 150 entries, 0 to 149\n",
        "Data columns:\n",
        "Type    150  non-null values\n",
        "PW      150  non-null values\n",
        "PL      150  non-null values\n",
        "SW      150  non-null values\n",
        "SL      150  non-null values\n",
        "dtypes: int64(5) \n",
        "\n",
        "   Type  PW  PL  SW  SL\n",
        "0     0   2  14  33  50\n",
        "1     1  24  56  31  67\n",
        "2     1  23  51  31  69\n",
        "3     0   2  10  36  46\n",
        "4     1  20  52  30  65\n",
        "5     1  19  51  27  58\n",
        "6     2  13  45  28  57\n",
        "7     2  16  47  33  63\n",
        "8     1  17  45  25  49\n",
        "9     2  14  47  32  70\n"
       ]
      }
     ],
     "prompt_number": 4
    },
    {
     "cell_type": "heading",
     "level": 4,
     "metadata": {},
     "source": [
      "Compute summary statistics"
     ]
    },
    {
     "cell_type": "code",
     "collapsed": false,
     "input": [
      "print np.round(iris.describe(), 2)"
     ],
     "language": "python",
     "metadata": {},
     "outputs": [
      {
       "output_type": "stream",
       "stream": "stdout",
       "text": [
        "         Type      PW      PL      SW      SL\n",
        "count  150.00  150.00  150.00  150.00  150.00\n",
        "mean     1.00   11.93   37.79   30.55   58.45\n",
        "std      0.82    7.57   17.78    4.37    8.27\n",
        "min      0.00    1.00   10.00   20.00   43.00\n",
        "25%      0.00    3.00   16.00   28.00   51.00\n",
        "50%      1.00   13.00   44.00   30.00   58.00\n",
        "75%      2.00   18.00   51.00   33.00   64.00\n",
        "max      2.00   25.00   69.00   44.00   79.00\n"
       ]
      }
     ],
     "prompt_number": 5
    },
    {
     "cell_type": "code",
     "collapsed": false,
     "input": [
      "type_grp = iris.groupby('Type')\n",
      "print \"number of groups:\", type_grp.ngroups, \"\\n\"\n",
      "print \"maximums:\\n\", type_grp.max(), \"\\n\"\n",
      "print \"size of each group:\\n\", type_grp.size(), \"\\n\""
     ],
     "language": "python",
     "metadata": {},
     "outputs": [
      {
       "output_type": "stream",
       "stream": "stdout",
       "text": [
        "number of groups: 3 \n",
        "\n",
        "maximums:\n",
        "      PW  PL  SW  SL\n",
        "Type                \n",
        "0      6  19  44  58\n",
        "1     25  69  38  79\n",
        "2     18  56  34  70 \n",
        "\n",
        "size of each group:\n",
        "Type\n",
        "0       50\n",
        "1       50\n",
        "2       50 \n",
        "\n"
       ]
      }
     ],
     "prompt_number": 6
    },
    {
     "cell_type": "heading",
     "level": 4,
     "metadata": {},
     "source": [
      "Plot the data"
     ]
    },
    {
     "cell_type": "code",
     "collapsed": false,
     "input": [
      "from mpl_toolkits.mplot3d import Axes3D\n",
      "fig = plt.figure(figsize=(8, 8))\n",
      "ax = fig.add_subplot(111, projection='3d')\n",
      "ax.scatter(iris['PW'], iris['PL'], iris['SW'], c=iris['Type'])\n",
      "\n",
      "ax.set_xlabel('PW')\n",
      "ax.set_ylabel('PL')\n",
      "ax.set_zlabel('SW')\n",
      "ax.azim = 140\n",
      "ax.elev = 15"
     ],
     "language": "python",
     "metadata": {},
     "outputs": [
      {
       "output_type": "display_data",
       "png": "[encoded data removed]"
      }
     ],
     "prompt_number": 7
    },
    {
     "cell_type": "heading",
     "level": 4,
     "metadata": {},
     "source": [
      "Check the state of the namespace"
     ]
    },
    {
     "cell_type": "code",
     "collapsed": false,
     "input": [
      "whos"
     ],
     "language": "python",
     "metadata": {},
     "outputs": [
      {
       "output_type": "stream",
       "stream": "stdout",
       "text": [
        "Variable    Type                        Data/Info\n",
        "-------------------------------------------------\n",
        "Axes3D      type                        <class 'mpl_toolkits.mplot3d.axes3d.Axes3D'>\n",
        "ax          Axes3DSubplot               Axes(0.125,0.125;0.775x0.775)\n",
        "fig         Figure                      Figure(640x640)\n",
        "iris        DataFrame                   <class 'pandas.core.frame<...> values\\ndtypes: int64(5)\n",
        "ols_fit     RegressionResultsWrapper    <statsmodels.regression.l<...>pper object at 0x5ad9c90>\n",
        "ols_model   OLS                         <statsmodels.regression.l<...>.OLS object at 0x5ad9ed0>\n",
        "patsy       module                      <module 'patsy' from '/us<...>ages/patsy/__init__.pyc'>\n",
        "pd          module                      <module 'pandas' from '/u<...>ges/pandas/__init__.pyc'>\n",
        "skl         module                      <module 'sklearn' from '/<...>es/sklearn/__init__.pyc'>\n",
        "sklmix      module                      <module 'sklearn.mixture'<...>rn/mixture/__init__.pyc'>\n",
        "sm          module                      <module 'statsmodels.api'<...>2.7/statsmodels/api.pyc'>\n",
        "sp          module                      <module 'scipy' from '/us<...>ages/scipy/__init__.pyc'>\n",
        "type_grp    DataFrameGroupBy            <pandas.core.groupby.Data<...>upBy object at 0x5afa9d0>\n",
        "x           ndarray                     100: 100 elems, type `float64`, 800 bytes\n",
        "y           ndarray                     100: 100 elems, type `float64`, 800 bytes\n",
        "yhat        ndarray                     100: 100 elems, type `float64`, 800 bytes\n"
       ]
      }
     ],
     "prompt_number": 8
    },
    {
     "cell_type": "heading",
     "level": 4,
     "metadata": {},
     "source": [
      "Get help for a function"
     ]
    },
    {
     "cell_type": "code",
     "collapsed": false,
     "input": [
      "# %pdoc sklmix.GMM\n",
      "# %psource sklmix.GMM\n",
      "\n",
      "#sklmix.GMM?\n",
      "#sklmix.GMM??"
     ],
     "language": "python",
     "metadata": {},
     "outputs": [],
     "prompt_number": 9
    },
    {
     "cell_type": "heading",
     "level": 4,
     "metadata": {},
     "source": [
      "Pick your favorite clustering algorithm"
     ]
    },
    {
     "cell_type": "code",
     "collapsed": false,
     "input": [
      "gmm_model = sklmix.GMM(n_components=3, covariance_type='full')\n",
      "gmm_model.fit(iris[['PW', 'PL', 'SW']])\n",
      "yhat = gmm_model.predict(iris[['PW', 'PL', 'SW']])\n",
      "crosstab = pd.crosstab(iris['Type'], yhat, rownames=['true'], colnames=['predicted'])\n",
      "print crosstab"
     ],
     "language": "python",
     "metadata": {},
     "outputs": [
      {
       "output_type": "stream",
       "stream": "stdout",
       "text": [
        "predicted   0   1   2\n",
        "true                 \n",
        "0           0  50   0\n",
        "1          13   0  37\n",
        "2          45   0   5\n"
       ]
      }
     ],
     "prompt_number": 10
    },
    {
     "cell_type": "heading",
     "level": 4,
     "metadata": {},
     "source": [
      "Align the confusion matrix with a non-standard package"
     ]
    },
    {
     "cell_type": "code",
     "collapsed": false,
     "input": [
      "import munkres\n",
      "import sys\n",
      "m = munkres.Munkres()\n",
      "cost = munkres.make_cost_matrix(crosstab.values.tolist(), lambda x : sys.maxint - x)\n",
      "align = m.compute(cost)\n",
      "print align, '\\n'\n",
      "\n",
      "permute = [x[1] for x in align]\n",
      "new_label = np.argsort(permute)\n",
      "yhat_new = new_label[yhat]\n",
      "print pd.crosstab(iris['Type'], yhat_new, rownames=['true'], colnames=['predicted'])"
     ],
     "language": "python",
     "metadata": {},
     "outputs": [
      {
       "output_type": "stream",
       "stream": "stdout",
       "text": [
        "[(0, 1), (1, 2), (2, 0)] \n",
        "\n",
        "predicted   0   1   2\n",
        "true                 \n",
        "0          50   0   0\n",
        "1           0  37  13\n",
        "2           0   5  45\n"
       ]
      }
     ],
     "prompt_number": 11
    },
    {
     "cell_type": "heading",
     "level": 4,
     "metadata": {},
     "source": [
      "Bridging the gap with Rpy2"
     ]
    },
    {
     "cell_type": "code",
     "collapsed": false,
     "input": [
      "from rpy2.robjects import r\n",
      "from rpy2.robjects.numpy2ri import numpy2ri as np2r\n",
      "\n",
      "Xr = np2r(iris[['PW', 'PL', 'SW']].values)\n",
      "d = r.dist(Xr)\n",
      "tree = r.hclust(d, method='ward')\n",
      "yhat_hclust = r.cutree(tree, k=3)\n",
      "\n",
      "print pd.crosstab(iris['Type'], yhat_hclust, rownames=['true'], colnames=['predicted'])"
     ],
     "language": "python",
     "metadata": {},
     "outputs": [
      {
       "output_type": "stream",
       "stream": "stdout",
       "text": [
        "predicted   1   2   3\n",
        "true                 \n",
        "0          50   0   0\n",
        "1           0  35  15\n",
        "2           0   0  50\n"
       ]
      }
     ],
     "prompt_number": 12
    },
    {
     "cell_type": "heading",
     "level": 4,
     "metadata": {},
     "source": [
      "Using non-base packages in Rpy2"
     ]
    },
    {
     "cell_type": "code",
     "collapsed": false,
     "input": [
      "import rpy2.robjects as robjects\n",
      "from rpy2.robjects.packages import importr\n",
      "r = robjects.r\n",
      "\n",
      "e1071 = importr('e1071')\n",
      "Yr = np2r(iris['Type'])\n",
      "Yr = r.factor(Yr)\n",
      "svm = e1071.svm(Xr, Yr)\n",
      "yhat = r.predict(svm, Xr)\n",
      "print r.table(yhat, Yr)"
     ],
     "language": "python",
     "metadata": {},
     "outputs": [
      {
       "output_type": "stream",
       "stream": "stdout",
       "text": [
        "   \n",
        "     0  1  2\n",
        "  0 50  0  0\n",
        "  1  0 46  2\n",
        "  2  0  4 48\n",
        "\n"
       ]
      }
     ],
     "prompt_number": 13
    },
    {
     "cell_type": "heading",
     "level": 4,
     "metadata": {},
     "source": [
      "Python resources"
     ]
    },
    {
     "cell_type": "markdown",
     "metadata": {},
     "source": [
      "+ [Python tutorial](http://docs.python.org/2/tutorial/)\n",
      "+ [Dive into Python](http://www.diveintopython.net/toc/index.html) (old but good)\n",
      "+ [Ipython](http://ipython.org/)\n",
      "+ [Ipython video](https://www.youtube.com/watch?v=2G5YTlheCbw)\n",
      "+ [py2exe](http://www.py2exe.org/): compile python to a Windows executable file"
     ]
    },
    {
     "cell_type": "heading",
     "level": 4,
     "metadata": {},
     "source": [
      "Package websites"
     ]
    },
    {
     "cell_type": "markdown",
     "metadata": {},
     "source": [
      "+ [NumPy](http://www.numpy.org/)\n",
      "+ [SciPy](http://www.scipy.org/)\n",
      "+ [matplotlib](http://matplotlib.org/)\n",
      "+ [pandas](http://pandas.pydata.org/)\n",
      "+ [scikit-learn](http://scikit-learn.org/stable/)\n",
      "+ [statsmodels](http://statsmodels.sourceforge.net/)\n",
      "+ [patsy](http://patsy.readthedocs.org/en/latest/index.html): symbolic formulas for models"
     ]
    },
    {
     "cell_type": "heading",
     "level": 4,
     "metadata": {},
     "source": [
      "Rosetta stones"
     ]
    },
    {
     "cell_type": "markdown",
     "metadata": {},
     "source": [
      "+ [NumPy for MATLAB users, source 1](http://www.scipy.org/NumPy_for_Matlab_Users)\n",
      "+ [NumPy for MATLAB users, source 2](http://mathesaurus.sourceforge.net/matlab-numpy.html)\n",
      "+ [NumPy for R users](http://mathesaurus.sourceforge.net/r-numpy.html)\n",
      "+ [MATLAB vs. R vs. Python](http://hyperpolyglot.org/numerical-analysis)"
     ]
    },
    {
     "cell_type": "heading",
     "level": 4,
     "metadata": {},
     "source": [
      "Miscellaneous"
     ]
    },
    {
     "cell_type": "markdown",
     "metadata": {},
     "source": [
      "+ [Fernando Perez](https://twitter.com/fperez_org) (IPython)\n",
      "+ [Wes McKinney](https://twitter.com/wesmckinn) (pandas)\n",
      "+ [PyData conference videos](http://pyvideo.org/category/18/pydata)\n",
      "+ [SciPy 2012 conference videos](http://pyvideo.org/category/20/scipy_2012)\n",
      "+ [Python for Data Analysis](http://www.amazon.com/books/dp/1449319793) (Wes McKinney, 2012)\n",
      "+ [http://slendrmeans.wordpress.com/](http://slendrmeans.wordpress.com/)"
     ]
    },
    {
     "cell_type": "heading",
     "level": 4,
     "metadata": {},
     "source": [
      "Why Python?"
     ]
    },
    {
     "cell_type": "markdown",
     "metadata": {},
     "source": [
      "+ Somebody in power told you to.\n",
      "+ Communication with other people.\n",
      "+ Communication between parts of a data analysis pipeline.\n",
      "+ Faster than R (often, but not always).\n",
      "+ Simple syntax for object-oriented designs.\n",
      "+ Written by computer scientists and programmers (not statisticians).\n",
      "+ Much bigger ecosystem of general language tools (but smaller set of statistics tools).\n",
      "+ Production-quality code."
     ]
    },
    {
     "cell_type": "heading",
     "level": 4,
     "metadata": {},
     "source": [
      "Ipython Notebook"
     ]
    },
    {
     "cell_type": "markdown",
     "metadata": {},
     "source": [
      "Relevant links:\n",
      "\n",
      "+ http://ipython.org/notebook.html\n",
      "+ https://github.com/ipython/nbconvert\n",
      "+ http://nbviewer.ipython.org/\n",
      "\n",
      "For Ubuntu:\n",
      "\n",
      "+ `sudo apt-get install ipython-notebook`\n",
      "+ `ipython notebook --pylab=inline --script`\n",
      "+ `nbconvert latex statBytes-python`\n",
      "+ `pdflatex statBytes-python.tex`\n",
      "\n",
      "The `--pylab==inline` flag embeds matplotlib output in the notebook rather than popping up a new window for each figure. The `--script` flat saves a `.py` script along with the `.ipynb` file which is ready to be run in a regular python or ipython prompt.\n",
      "\n",
      "There are (at least) two ways to post a notebook online. For this notebook I pushed the .ipynb file to a public github repo, open the file on the github website, clicked the \"raw\" button, and pasted the URL into the box at the top of the nbviewer website. Pretty straightforward."
     ]
    }
   ],
   "metadata": {}
  }
 ]
}